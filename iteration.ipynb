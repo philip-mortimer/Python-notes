{
 "cells": [
  {
   "cell_type": "markdown",
   "id": "8cdb55f3-4b60-429f-9812-5de0df1b0a03",
   "metadata": {},
   "source": [
    "# Python iteration\n",
    "\n",
    "Often you want a program to perform some action repeatedly. For example, you\n",
    "might want the program to repeatedly execute a piece of code that inputs and\n",
    "processes a command entered by the user until the user enters 'quit'. Such \n",
    "repeated execution of a piece of code is called iteration.\n",
    "\n",
    "## The while loop\n",
    "\n",
    "One way that you can achieve such iterative behaviour in a Python program is\n",
    "to use a *while* loop which executes a piece of code repeatedly while some\n",
    "condition is true.\n",
    "\n",
    "You write a *while* loop as follows:"
   ]
  },
  {
   "cell_type": "markdown",
   "id": "2e8cba18-fd9d-4d5e-9dbf-3fcf7241c7d9",
   "metadata": {},
   "source": [
    "```\n",
    "while condition:\n",
    "    statement\n",
    "    ...\n",
    "```"
   ]
  },
  {
   "cell_type": "markdown",
   "id": "4edd0d26-2312-4497-bb00-271a35c41da9",
   "metadata": {},
   "source": [
    "The firat line, beginning with the keyword *while*, contains a condition which\n",
    "is an expression evaluating to true or false e.g. n > 1. This is followed by 1\n",
    "or more lines of code which are indented more deeply than the while line. This\n",
    "is the code that that Python executes each time round (during each iteration\n",
    "of) the loop if the condition is true.\n",
    "\n",
    "The logic of the *while* loop is as follows:\n",
    "\n",
    "1. Evaluate the loop's condition.\n",
    "2. If it is true execute the loop's code and go back to step 1.\n",
    "3. If it is false skip to the end of the loop and continue execution of the\n",
    "   program.\n",
    "\n",
    "\n",
    "The following program illustrates the use of the *while* loop:\n"
   ]
  },
  {
   "cell_type": "code",
   "execution_count": null,
   "id": "694fba64-ea80-4878-afa4-73fddb53ba86",
   "metadata": {},
   "outputs": [],
   "source": [
    "count = 5\n",
    "while count > 0:\n",
    "    print(count)\n",
    "    count -= 1\n",
    "print(\"Lift off.\")"
   ]
  },
  {
   "cell_type": "markdown",
   "id": "060d6d82-3615-4989-9c1f-bc19fe8e5e52",
   "metadata": {},
   "source": [
    "Each time round the loop the program prints the value of *count* before\n",
    "decrementing it. Eventually it decrements *count* to 0. This means that when\n",
    "it goes back to the *while* line the condition will now be false, so it will\n",
    "skip to the end of the loop and print the string \"Lift off\".\n",
    "\n",
    "If the *while* loop's condition is false when it is first evaluated Python just\n",
    "skips to the end of the loop and continues execution of the program so that the\n",
    "loop's code is not executed at all. For example:"
   ]
  },
  {
   "cell_type": "code",
   "execution_count": null,
   "id": "8e4431da-cbf5-4135-be45-85e0f3f29d43",
   "metadata": {},
   "outputs": [],
   "source": [
    "count = 0\n",
    "while count > 0:\n",
    "    # The following 2 lines will never be executed.\n",
    "    print(count)\n",
    "    count -= 1\n",
    "print(\"This is the only output.\")"
   ]
  },
  {
   "cell_type": "markdown",
   "id": "e56071c4-d6f2-4e9d-8c3a-e7a1a2bf29d0",
   "metadata": {},
   "source": [
    "The *while* loop's code can contain other flow control statements such as *if*\n",
    "statements and other *while* loops. For example:"
   ]
  },
  {
   "cell_type": "code",
   "execution_count": null,
   "id": "9dfc8a8c-2864-4699-bd3a-49bc8385c494",
   "metadata": {},
   "outputs": [],
   "source": [
    "data = [ [5, 89, -7], [1], [8908, 0] ]\n",
    "max_num = data[0][0]\n",
    "i = 0\n",
    "while i < len(data):\n",
    "    j = 0\n",
    "    while j < len(data[i]):\n",
    "        if data[i][j] > max_num:\n",
    "            print(\"{} > max_num ({})\".format(data[i][j], max_num))\n",
    "            max_num = data[i][j]\n",
    "        else:\n",
    "            print(\"{} <= max_num ({})\".format(data[i][j], max_num))            \n",
    "        j += 1\n",
    "    i += 1\n",
    "print(\"max number is {}\".format(max_num))"
   ]
  },
  {
   "cell_type": "markdown",
   "id": "c1228c0e-84e4-4291-ab97-d23f9fe6d40f",
   "metadata": {},
   "source": [
    "### The *break* and *continue* statements\n",
    "\n",
    "There may be situations where you want the program to break out of the loop\n",
    "even though the *while* condition may still be true. For example, you might\n",
    "want a loop that iterates through each line of a file to terminate when it\n",
    "reads a certain string, even though it has not reached the end of the file.\n",
    "To do this put the *break* statement in the *while* loop's code at the point\n",
    "where you want it to break out of the loop. It will cause Python to jump to\n",
    "the end of the loop and continue execution of the program without any more\n",
    "loop iterations.\n",
    "\n",
    "For example, the following programs prints each string in a list of strings,\n",
    "but when it finds the string \"third\" it breaks out of the loop. This means that\n",
    "it does not print any of the remaining strings, but executes the rest of the\n",
    "program which prints \"bye\":"
   ]
  },
  {
   "cell_type": "code",
   "execution_count": null,
   "id": "734b8fb5-abf2-43e8-8209-2bef0151effb",
   "metadata": {},
   "outputs": [],
   "source": [
    "TARGET = \"third\"\n",
    "\n",
    "STRINGS = [\n",
    "    \"first\",\n",
    "    \"second but not last\",\n",
    "    \"third\",\n",
    "    \"last\"\n",
    "]\n",
    "\n",
    "i = 0\n",
    "while i < len(STRINGS):\n",
    "    if STRINGS[i] == TARGET:\n",
    "        print(\"Found '{}'\".format(TARGET))\n",
    "        break\n",
    "    print(\"String is '{}'\".format(STRINGS[i]))\n",
    "    i += 1\n",
    "\n",
    "print(\"bye\")"
   ]
  },
  {
   "cell_type": "markdown",
   "id": "4a0870eb-d18e-4ccd-a3a7-733bd138b7dc",
   "metadata": {},
   "source": [
    "The *continue* statement terminates the current iteration of the *while* loop,\n",
    "and continues to the next iteration. It causes Python to jump back to the\n",
    "*while* line so that the next iteration of the loop is executed if the *while*\n",
    "condition is still true.\n",
    "\n",
    "For example, the following program prints lines of text input from standard\n",
    "input. However, if the line is blank (contains no non-blank characters) it\n",
    "calls *continue* so that it continues to the next iteration without printing\n",
    "the blank line:\n"
   ]
  },
  {
   "cell_type": "code",
   "execution_count": null,
   "id": "3362b7cf-222b-4ff8-bf76-5abdd8dfa6c1",
   "metadata": {},
   "outputs": [],
   "source": [
    "line = ''\n",
    "while line != 'end':\n",
    "    line = input()\n",
    "    if line.strip() == '':\n",
    "        continue\n",
    "    print(line)"
   ]
  },
  {
   "cell_type": "markdown",
   "id": "2e744c15-ba9e-41b2-9203-da5a7e56e521",
   "metadata": {},
   "source": [
    "## The *for* loop\n",
    "\n",
    "In addition to the general purpose *while* loop there is another type of loop\n",
    "in Python called the *for* loop. This deals with the common situation where you\n",
    "want to perform some action for each value in a series of values.\n",
    "\n",
    "You write a *for* loop as follows:"
   ]
  },
  {
   "cell_type": "markdown",
   "id": "240a937e-5a38-4f37-ae86-796239117d76",
   "metadata": {},
   "source": [
    "```\n",
    "for variable in sequence:\n",
    "    statement\n",
    "    ...\n",
    "```"
   ]
  },
  {
   "cell_type": "markdown",
   "id": "12885c98-dda0-49dd-881e-70078c73a8ac",
   "metadata": {},
   "source": [
    "where *sequence* is an object from which it is possible to obtain a series of\n",
    "values such as a list or a range of numbers. During each iteration of the loop\n",
    "the next value obtained from the sequence is assigned to the *for* loop's\n",
    "variable. As with the *while* loop the indented lines of code are executed\n",
    "during each iteration of the loop. This code usually makes use of the value\n",
    "assigned to the for loop's variable.\n",
    "\n",
    "For example, the following program prints a series of numbers:\n"
   ]
  },
  {
   "cell_type": "code",
   "execution_count": null,
   "id": "b792ac1c-8d36-4d05-9b14-d5134dd7428a",
   "metadata": {},
   "outputs": [],
   "source": [
    "for i in range(10):\n",
    "    print(i)"
   ]
  },
  {
   "cell_type": "markdown",
   "id": "9b33f0b0-e4e4-49c0-b5bd-39cc8f340801",
   "metadata": {},
   "source": [
    "This example makes use of the *range* function which comes with Python. If you\n",
    "pass just 1 integer argument to *range* as follows:"
   ]
  },
  {
   "cell_type": "markdown",
   "id": "de8d917c-f6ff-41b1-85b9-28789b85679c",
   "metadata": {},
   "source": [
    "```\n",
    "range(n)\n",
    "```"
   ]
  },
  {
   "cell_type": "markdown",
   "id": "8d43c628-e3b7-4560-bac0-f4ebfd19a733",
   "metadata": {},
   "source": [
    "it will generate the range of numbers between 0 and n, but not including n. So\n",
    "in the above example the series of numbers obtained from *range* will be 0..9,\n",
    "and these are the numbers printed by the above program."
   ]
  },
  {
   "cell_type": "markdown",
   "id": "7a9591a4-f2d9-42dc-ad74-2c5c82591577",
   "metadata": {},
   "source": [
    "To specify a number other than 0 as the start of the range pass 2 arguments to\n",
    "*range* as follows:"
   ]
  },
  {
   "cell_type": "markdown",
   "id": "7ff2fce3-e33e-4bb2-bfb1-4ba4687aca25",
   "metadata": {},
   "source": [
    "```\n",
    "range(start, end)\n",
    "```"
   ]
  },
  {
   "cell_type": "markdown",
   "id": "7b23e115-9faf-4137-af72-7e4b2925198e",
   "metadata": {},
   "source": [
    "This will generate the range of numbers between start and end, but not\n",
    "including end.\n",
    "\n",
    "For example:"
   ]
  },
  {
   "cell_type": "code",
   "execution_count": null,
   "id": "10b326ee-0b4a-4aaf-bd52-d44b0d029e1c",
   "metadata": {},
   "outputs": [],
   "source": [
    "for i in range(1, 11):\n",
    "    print(i)"
   ]
  },
  {
   "cell_type": "markdown",
   "id": "a8f45c8a-961f-4216-92f8-b7ae3d27916f",
   "metadata": {},
   "source": [
    "will print the numbers 1..10."
   ]
  },
  {
   "cell_type": "markdown",
   "id": "7fef7cb9-a4f2-4390-86ef-7bb6c0cacded",
   "metadata": {},
   "source": [
    "By default, each value generated by *range* is 1 greater than the previous\n",
    "value, but you can specify a different step (amount by which the value changes)\n",
    "by passing a 3rd argument to *range* as follows:"
   ]
  },
  {
   "cell_type": "markdown",
   "id": "fec39695-6db4-4d0b-8f13-d71b07745f3a",
   "metadata": {},
   "source": [
    "```\n",
    "range(start, end, step)\n",
    "```"
   ]
  },
  {
   "cell_type": "markdown",
   "id": "d1cda63b-aeca-4fcc-95f9-3aea624f28e6",
   "metadata": {},
   "source": [
    "For example:"
   ]
  },
  {
   "cell_type": "code",
   "execution_count": null,
   "id": "57c3f82d-13a6-4f1e-8ba2-af875eb7defc",
   "metadata": {},
   "outputs": [],
   "source": [
    "for i in range(1, 10, 2):\n",
    "    print(i)"
   ]
  },
  {
   "cell_type": "markdown",
   "id": "835e816b-8790-416e-93fb-ae10de67a5b2",
   "metadata": {},
   "source": [
    "increases the values generated by steps of 2 (1, 3, 5 etc.) so that it will\n",
    "print the odd numbers between 1 and 9. As before, the end value (10) is\n",
    "excluded."
   ]
  },
  {
   "cell_type": "markdown",
   "id": "f5bff771-4df1-4d52-87b4-26293d76fcd9",
   "metadata": {},
   "source": [
    "The step value can be negative. For example, the above *while* loop countdown\n",
    "program can be re-written as follows:"
   ]
  },
  {
   "cell_type": "code",
   "execution_count": null,
   "id": "536e85bb-d87b-4446-8c1f-27dc8a6d6552",
   "metadata": {},
   "outputs": [],
   "source": [
    "for count in range(5, 0, -1):\n",
    "    print(count)\n",
    "print(\"Lift off.\")"
   ]
  },
  {
   "cell_type": "markdown",
   "id": "1d081220-99f4-4ffd-a417-a19409abab3b",
   "metadata": {},
   "source": [
    "Here the values decrease by steps of 1 (5, 4, 3, 2, 1). As before the end value\n",
    "(0) is excluded."
   ]
  },
  {
   "cell_type": "markdown",
   "id": "aff756c4-3a04-4a08-8379-e6a14bf0b624",
   "metadata": {},
   "source": [
    "If your program does not need to make use of the *for* loop variable you can\n",
    "replace it with the wildcard character (\\_). This means that you do not need to\n",
    "think of a name for the variable, and Python avoids the overheads associated\n",
    "with creating the variable.\n",
    "\n",
    "For example, the following program, which prints\n",
    "the first 20 [Fibonacci](https://en.wikipedia.org/wiki/Fibonacci_number)\n",
    "numbers, does not need to make use of the loop variable to calculate the\n",
    "numbers, so it is replaced by the wildcard:"
   ]
  },
  {
   "cell_type": "code",
   "execution_count": null,
   "id": "00c46f3a-5c99-477d-a2a2-dd04bde668ac",
   "metadata": {},
   "outputs": [],
   "source": [
    "n1,n2 = 0,1\n",
    "for _ in range(20):\n",
    "    print(n1, end=' ')\n",
    "    n1,n2 = n2,n1+n2\n",
    "print()"
   ]
  },
  {
   "cell_type": "markdown",
   "id": "64f85f6b-937b-4275-8bc2-1efea765bc58",
   "metadata": {},
   "source": [
    "A number of different types of Python data structures, such as lists and\n",
    "tuples, can be used as the sequence of objects in a *for* loop. For example,\n",
    "the following  program prints each item in a list:"
   ]
  },
  {
   "cell_type": "code",
   "execution_count": null,
   "id": "ac07d3a4-070d-4c74-b6b2-7d6c99a6ea31",
   "metadata": {},
   "outputs": [],
   "source": [
    "week_days = [\"Monday\", \"Tuesday\", \"Wednesday\", \"Thursday\", \"Friday\"]\n",
    "for day in week_days:\n",
    "    print(day)"
   ]
  },
  {
   "cell_type": "markdown",
   "id": "03c97e6e-4177-4895-a3b7-fb764e36d92f",
   "metadata": {},
   "source": [
    "The *for* loop's code can contain other flow control statements including other\n",
    "*for* loops. For example:"
   ]
  },
  {
   "cell_type": "code",
   "execution_count": null,
   "id": "04f8690e-0cc5-432d-828b-61ca6b86cc3c",
   "metadata": {},
   "outputs": [],
   "source": [
    "data = [ [5, 89, -7], [1], [8908, 0] ]\n",
    "max_num = data[0][0]\n",
    "for l in data:\n",
    "    for n in l:\n",
    "        if n > max_num:\n",
    "            print(\"{} > max_num({})\".format(n, max_num))\n",
    "            max_num = n\n",
    "        else:\n",
    "            print(\"{} <= max_num({})\".format(n, max_num))\n",
    "print(\"max number is {}\".format(max_num))"
   ]
  },
  {
   "cell_type": "markdown",
   "id": "dd73dfb5-ada1-4a91-b62c-4e38d892a64c",
   "metadata": {},
   "source": [
    "### The *break* and *continue* statements\n",
    "\n",
    "As with the *while* loop, you can use the *break* command to break out of a\n",
    "*for* loop.\n",
    "\n",
    "For example, the above program which uses a *while* loop to iterate through a\n",
    "list of strings until it finds the string \"third\" can be re-written as follows:"
   ]
  },
  {
   "cell_type": "code",
   "execution_count": null,
   "id": "cae634e5-1f4c-4a41-9c6b-a13764ddcf01",
   "metadata": {},
   "outputs": [],
   "source": [
    "TARGET = \"third\"\n",
    "\n",
    "STRINGS = [\n",
    "    \"first\",\n",
    "    \"second but not last\",\n",
    "    \"third\",\n",
    "    \"last\"\n",
    "]\n",
    "\n",
    "for str in STRINGS:\n",
    "    if str == TARGET:\n",
    "        print(\"Found target '{}'\".format(str))\n",
    "        break\n",
    "    print(\"String is '{}'\".format(str))\n",
    "print(\"bye\")"
   ]
  },
  {
   "cell_type": "markdown",
   "id": "4cf1de81-22c0-4374-b7a5-c68ab5de45a3",
   "metadata": {},
   "source": [
    "You can also, as with the *while* loop, use the *continue* command to continue\n",
    "to the next iteration of the *for* loop without completing the current\n",
    "iteration.\n",
    "\n",
    "For example, the following program prints the square roots of numbers in a\n",
    "list, but it skips past negative numbers: "
   ]
  },
  {
   "cell_type": "code",
   "execution_count": null,
   "id": "201851e6-582d-4ec8-9028-b53bd772128f",
   "metadata": {},
   "outputs": [],
   "source": [
    "numbers = [9, 0, 1, -2, 100, -0.5, 1]\n",
    "for number in numbers:\n",
    "    if number < 0:\n",
    "        print(\"Skipping past negative number {:g}\".format(number))\n",
    "        continue\n",
    "    print(\"Square root of {:g} is {:g}\".format(number, number ** 0.5))"
   ]
  }
 ],
 "metadata": {
  "kernelspec": {
   "display_name": "Python 3 (ipykernel)",
   "language": "python",
   "name": "python3"
  },
  "language_info": {
   "codemirror_mode": {
    "name": "ipython",
    "version": 3
   },
   "file_extension": ".py",
   "mimetype": "text/x-python",
   "name": "python",
   "nbconvert_exporter": "python",
   "pygments_lexer": "ipython3",
   "version": "3.8.5"
  }
 },
 "nbformat": 4,
 "nbformat_minor": 5
}
