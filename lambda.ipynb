{
 "cells": [
  {
   "cell_type": "markdown",
   "id": "e3079fc4-ee13-4c43-9bac-e98153b0093c",
   "metadata": {},
   "source": [
    "# Lambda Expressions\n",
    "\n",
    "Suppose that you wish to perform a calculation on each item in a list. You might write a function to perform the calculation, and apply it to each item in the list using the built-in Python *map* function. For example:"
   ]
  },
  {
   "cell_type": "code",
   "execution_count": 1,
   "id": "b30c42cf-5d15-456c-bfd7-757e742b2943",
   "metadata": {},
   "outputs": [
    {
     "name": "stdout",
     "output_type": "stream",
     "text": [
      "[33, 54, -9, 5, 8.5]\n"
     ]
    }
   ],
   "source": [
    "def action(x):\n",
    "    return 7 * x + 5\n",
    "\n",
    "data = [4, 7, -2, 0, 0.5]\n",
    "results = map(action, data)\n",
    "print(list(results))"
   ]
  },
  {
   "cell_type": "markdown",
   "id": "24160873-43bf-4514-aa56-90735bb91df6",
   "metadata": {},
   "source": [
    "The only reason for creating the above function called *action* was so that *map* could carry out a calculation on each item in a list. It would have been more convenient to create an anonymous function instead so that there would have been no  need to think of a unique name for the function. You can create such an anonymous function in Python using a lambda expression which you write as follows:"
   ]
  },
  {
   "cell_type": "markdown",
   "id": "d56b9c94-7ddc-4394-9335-9aa645ff8089",
   "metadata": {},
   "source": [
    "```\n",
    "lambda parameters: expression\n",
    "```"
   ]
  },
  {
   "cell_type": "markdown",
   "id": "a0df429c-090d-4e60-8326-552e24217869",
   "metadata": {},
   "source": [
    "where:\n",
    "\n",
    "- *parameters* is a comma-separated list of parameters which specify the arguments to be passed to the anonymous function.\n",
    "- *expression* is an expression such as an arithmetic expression. When the anonymous function is called it returns the result of evaluating this expression.\n",
    "\n",
    "The above program can be re-written as follows using a lambda expression:\n"
   ]
  },
  {
   "cell_type": "code",
   "execution_count": 2,
   "id": "dd9c5895-af4a-45cc-a712-6e796b59015c",
   "metadata": {},
   "outputs": [
    {
     "name": "stdout",
     "output_type": "stream",
     "text": [
      "[33, 54, -9, 5, 8.5]\n"
     ]
    }
   ],
   "source": [
    "data = [4, 7, -2, 0, 0.5]\n",
    "results = map(lambda x: 7 * x + 5, data)\n",
    "print(list(results))"
   ]
  },
  {
   "cell_type": "markdown",
   "id": "f85dc57b-c4a8-4565-99aa-124aa2d4e974",
   "metadata": {},
   "source": [
    "Here the lambda expression creates an anonymous function which is passed as the 1st argument to the *map* function."
   ]
  }
 ],
 "metadata": {
  "kernelspec": {
   "display_name": "Python 3 (ipykernel)",
   "language": "python",
   "name": "python3"
  },
  "language_info": {
   "codemirror_mode": {
    "name": "ipython",
    "version": 3
   },
   "file_extension": ".py",
   "mimetype": "text/x-python",
   "name": "python",
   "nbconvert_exporter": "python",
   "pygments_lexer": "ipython3",
   "version": "3.8.5"
  }
 },
 "nbformat": 4,
 "nbformat_minor": 5
}
