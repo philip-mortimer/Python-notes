{
 "cells": [
  {
   "cell_type": "markdown",
   "id": "e09b0768-210b-4b66-9dbb-be2cce4ec0f2",
   "metadata": {},
   "source": [
    "# Lambda Expressions\n",
    "\n",
    "Suppose that you wish to perform a particular action on each item in a list. You might write a function to perform the action and apply it to each item in the list using the built-in Python *map* function. For example:"
   ]
  },
  {
   "cell_type": "code",
   "execution_count": 1,
   "id": "b07df64d-829d-4ead-aa17-58d7a8f9cac3",
   "metadata": {},
   "outputs": [
    {
     "name": "stdout",
     "output_type": "stream",
     "text": [
      "[33, 54, -9, 5, 8.5]\n"
     ]
    }
   ],
   "source": [
    "def action(x):\n",
    "    return 7 * x + 5\n",
    "\n",
    "data = [4, 7, -2, 0, 0.5]\n",
    "results = map(action, data)\n",
    "print(list(results))"
   ]
  },
  {
   "cell_type": "markdown",
   "id": "8de3d0c3-43f0-40e9-994b-dc1f68b60034",
   "metadata": {},
   "source": [
    "If you had only created the above function called *action* in order to pass it to *map*, and you did not use it anywhere else in the program, it would be convenient to create an anonymous function so that you do not need to think of a unique name for the function. You can do this in Python using a lambda expression which creates an anonymous function. \n",
    "\n",
    "You write a lambda expression as follows:"
   ]
  },
  {
   "cell_type": "markdown",
   "id": "d56b9c94-7ddc-4394-9335-9aa645ff8089",
   "metadata": {},
   "source": [
    "```\n",
    "lambda parameters: expression\n",
    "```"
   ]
  },
  {
   "cell_type": "markdown",
   "id": "a0df429c-090d-4e60-8326-552e24217869",
   "metadata": {},
   "source": [
    "where:\n",
    "\n",
    "- *parameters* is a comma-separated list of parameters which specify the arguments to be passed to the anonymous function.\n",
    "- *expression* is an expression such as an arithmetic expression. When the anonymous function is called it returns the result of evaluating this expression.\n",
    "\n",
    "The above program can be re-written as follows using a lambda expression:\n"
   ]
  },
  {
   "cell_type": "code",
   "execution_count": 2,
   "id": "dd9c5895-af4a-45cc-a712-6e796b59015c",
   "metadata": {},
   "outputs": [
    {
     "name": "stdout",
     "output_type": "stream",
     "text": [
      "[33, 54, -9, 5, 8.5]\n"
     ]
    }
   ],
   "source": [
    "data = [4, 7, -2, 0, 0.5]\n",
    "results = map(lambda x: 7 * x + 5, data)\n",
    "print(list(results))"
   ]
  },
  {
   "cell_type": "markdown",
   "id": "f85dc57b-c4a8-4565-99aa-124aa2d4e974",
   "metadata": {},
   "source": [
    "Here the lambda expression creates an anonymous function which is passed as the 1st argument to the *map* function."
   ]
  }
 ],
 "metadata": {
  "kernelspec": {
   "display_name": "Python 3 (ipykernel)",
   "language": "python",
   "name": "python3"
  },
  "language_info": {
   "codemirror_mode": {
    "name": "ipython",
    "version": 3
   },
   "file_extension": ".py",
   "mimetype": "text/x-python",
   "name": "python",
   "nbconvert_exporter": "python",
   "pygments_lexer": "ipython3",
   "version": "3.8.5"
  }
 },
 "nbformat": 4,
 "nbformat_minor": 5
}
